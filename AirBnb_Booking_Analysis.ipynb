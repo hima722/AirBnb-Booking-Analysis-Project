{
  "nbformat": 4,
  "nbformat_minor": 0,
  "metadata": {
    "colab": {
      "provenance": [],
      "authorship_tag": "ABX9TyOFx0QB7m5xYgN61GJBIQC+",
      "include_colab_link": true
    },
    "kernelspec": {
      "name": "python3",
      "display_name": "Python 3"
    },
    "language_info": {
      "name": "python"
    }
  },
  "cells": [
    {
      "cell_type": "markdown",
      "metadata": {
        "id": "view-in-github",
        "colab_type": "text"
      },
      "source": [
        "<a href=\"https://colab.research.google.com/github/hima722/AirBnb-Booking-Analysis-Project/blob/main/AirBnb_Booking_Analysis.ipynb\" target=\"_parent\"><img src=\"https://colab.research.google.com/assets/colab-badge.svg\" alt=\"Open In Colab\"/></a>"
      ]
    },
    {
      "cell_type": "markdown",
      "source": [
        "# **Project Name - AirBnb Booking Analysis**"
      ],
      "metadata": {
        "id": "GuJVGA_iZdhn"
      }
    },
    {
      "cell_type": "markdown",
      "source": [
        "**Project Type** - EDA\n",
        "\n",
        "**Contribution** - Individual\n",
        "\n",
        "**Name** - Himanshi Tyagi"
      ],
      "metadata": {
        "id": "GnJ9VVbyZoaw"
      }
    },
    {
      "cell_type": "markdown",
      "source": [
        "# **Project Summary -**"
      ],
      "metadata": {
        "id": "Jv5JDqBLaMfO"
      }
    },
    {
      "cell_type": "markdown",
      "source": [
        "Since 2008, guests and hosts have used Airbnb to expand on traveling possibilities and present a more unique, personalized way of experiencing the world. Today, Airbnb became one of a kind service that is used and recognized by the whole world. Data analysis on millions of listings provided through Airbnb is a crucial factor for the company. These millions of listings generate a lot of data - data that can be analyzed and used for security, business decisions, understanding of customers' and providers' (hosts) behavior and performance on the platform, guiding marketing initiatives, implementation of innovative additional services and much more.\n",
        "\n",
        "This dataset has around 49,000 observations in it with 16 columns and it is a mix between categorical and numeric values.\n",
        "\n",
        "\n",
        "The aim of performing Exploratory Data Analysis (EDA) on Airbnb data is to gain insights and a deeper understanding of the dataset. EDA helps to uncover patterns, relationships, and trends within the data, providing valuable information that can be used for various purposes.\n",
        "\n",
        "Objectives\n",
        "\n",
        "1.Explore demand and booking patterns   \n",
        "2.customer segmentation Analysis  \n",
        "3.Identify popular or unique property types   \n",
        "4.Identify factors influencing listing prices   \n",
        "5.Revanue Analysis  \n",
        "\n",
        "\n",
        "\n"
      ],
      "metadata": {
        "id": "SckDRCyKlEkk"
      }
    },
    {
      "cell_type": "markdown",
      "source": [
        "# **GitHub Link -**"
      ],
      "metadata": {
        "id": "qVT064x2JQ34"
      }
    },
    {
      "cell_type": "markdown",
      "source": [
        "# **Problem Statement**\n",
        "\n"
      ],
      "metadata": {
        "id": "WRRpgPESJYFJ"
      }
    },
    {
      "cell_type": "markdown",
      "source": [
        "The purpose of this exploratory data analysis project is to analyze and examine the factors that influence customer bookings and preferences.\n",
        "\n",
        "Explore and analyze the data to discover key understanding(NOt limited to this) such as:\n",
        "\n",
        "what can we learn about different host and areas?\n",
        "\n",
        "\n",
        "\n",
        "\n",
        "1. Most Popular Neighborhoods\n",
        "2. Room type which is having highest demand\n",
        "3. most Expensive and most affordable room types\n",
        "4. people trend to book rooms acoording to their duration of stay\n",
        "5. Neighborhoods with the most Number of Hotels   \n",
        "\n",
        "\n",
        "Define Your Business Objective?\n",
        "\n",
        "Recommending marketing campaign strategies and predicting the destination neighbourhood which are in high demand.\n",
        "\n",
        "Using Exploratory Data Analysis, find out the most demanded room type, neighbourhood_group.\n",
        "\n",
        "Find the average days guests prefer to stay in single visit in different room type in varied neighbourhood_group\n",
        "\n",
        "The aim is to identify insights and patterns in the data that can help the company understand the drivers of customer retention and inform future decision-making regarding host listing, location, price and customer service and marketing strategies\n",
        "\n",
        "\n",
        "\n"
      ],
      "metadata": {
        "id": "9Pjq60-1JsVf"
      }
    },
    {
      "cell_type": "markdown",
      "source": [
        "# **General Guidelines : -**\n",
        "\n",
        "\n",
        "1. Well-structured, formatted, and commented code is required.\n",
        "2.Exception Handling, Production Grade Code & Deployment Ready Code will be a plus. Those students will be awarded some additional credits.\n",
        "\n",
        "3. The additional credits will have advantages over other students during Star Student selection.\n",
        "\n",
        "    [ Note: - Deployment Ready Code is defined as, the whole .ipynb notebook should be executable in one go\n",
        "              without a single error logged. ]\n",
        "Each and every logic should have proper comments.\n",
        "  \n",
        "4.  You may add as many number of charts you want. Make Sure for each and every chart the following format should be answered.\n",
        "\n",
        "# Chart visualization code\n",
        "        \n",
        "Why did you pick the specific chart?\n",
        "\n",
        "* What is/are the insight(s) found from the chart?\n",
        "* Will the gained insights help creating a positive business impact? Are there any insights that lead to negative growth? Justify with specific reason.  \n",
        "\n",
        "\n",
        "5. You have to create at least 20 logical & meaningful charts having important insights.\n",
        "[ Hints : - Do the Vizualization in a structured way while following \"UBM\" Rule.\n",
        "\n",
        "U - Univariate Analysis,\n",
        "\n",
        "B - Bivariate Analysis (Numerical - Categorical, Numerical - Numerical, Categorical - Categorical)\n",
        "\n",
        "M - Multivariate Analysis ]"
      ],
      "metadata": {
        "id": "H0wNwGMnLJIr"
      }
    },
    {
      "cell_type": "markdown",
      "source": [
        "# **Let's Begin !**"
      ],
      "metadata": {
        "id": "GhgPUq-xNpMD"
      }
    },
    {
      "cell_type": "markdown",
      "source": [
        "**1. Know Your Data**"
      ],
      "metadata": {
        "id": "oq_JUTKaNsnn"
      }
    },
    {
      "cell_type": "markdown",
      "source": [
        "**Import Libraries**"
      ],
      "metadata": {
        "id": "HqADVNCOOvcH"
      }
    },
    {
      "cell_type": "code",
      "source": [
        "# Import Libraries\n",
        "import numpy as np\n",
        "import pandas as pd\n",
        "import matplotlib.pyplot as plt\n",
        "import seaborn as sns\n"
      ],
      "metadata": {
        "id": "T3N82HBrOuWF"
      },
      "execution_count": null,
      "outputs": []
    },
    {
      "cell_type": "markdown",
      "source": [
        "Dataset Loading"
      ],
      "metadata": {
        "id": "4p7MK8EuPoJZ"
      }
    },
    {
      "cell_type": "code",
      "source": [
        "#mounting drive\n",
        "from google.colab import drive\n",
        "drive.mount('/content/drive')\n"
      ],
      "metadata": {
        "id": "aA1rivrTPq55"
      },
      "execution_count": null,
      "outputs": []
    },
    {
      "cell_type": "code",
      "source": [
        "# Load Dataset\n",
        "dataset=pd.read_csv(\"/content/drive/MyDrive/Almabetter/Airbnb NYC 2019.csv\")"
      ],
      "metadata": {
        "id": "z7gawkrJP5Mm"
      },
      "execution_count": null,
      "outputs": []
    },
    {
      "cell_type": "markdown",
      "source": [
        "Dataset First View"
      ],
      "metadata": {
        "id": "4jKLGN1xQCIQ"
      }
    },
    {
      "cell_type": "code",
      "source": [
        "# Dataset First Look\n",
        "dataset.head()"
      ],
      "metadata": {
        "id": "qw9sMu9kQGPl"
      },
      "execution_count": null,
      "outputs": []
    },
    {
      "cell_type": "markdown",
      "source": [
        "Dataset Rows & Columns count"
      ],
      "metadata": {
        "id": "Cwx7cQ-fQMNQ"
      }
    },
    {
      "cell_type": "code",
      "source": [
        "# Dataset Rows & Columns count\n",
        "dataset.shape"
      ],
      "metadata": {
        "id": "rcRhbSKPQPhU"
      },
      "execution_count": null,
      "outputs": []
    },
    {
      "cell_type": "markdown",
      "source": [
        "Dataset Information"
      ],
      "metadata": {
        "id": "ZttFc7c0Qp0w"
      }
    },
    {
      "cell_type": "code",
      "source": [
        "# Dataset Info\n",
        "dataset.info()"
      ],
      "metadata": {
        "id": "7x2heT1WJsCg"
      },
      "execution_count": null,
      "outputs": []
    },
    {
      "cell_type": "code",
      "source": [
        "dataset.describe()"
      ],
      "metadata": {
        "id": "mP4XpmCvZk0U"
      },
      "execution_count": null,
      "outputs": []
    },
    {
      "cell_type": "markdown",
      "source": [
        "Duplicate Values"
      ],
      "metadata": {
        "id": "_-N8eSQ5Q4Nh"
      }
    },
    {
      "cell_type": "code",
      "execution_count": null,
      "metadata": {
        "id": "_5_dz719ZN62"
      },
      "outputs": [],
      "source": [
        "# Dataset Duplicate Value Count\n",
        "duplicate_count = dataset.duplicated().sum()\n",
        "duplicate_count\n"
      ]
    },
    {
      "cell_type": "markdown",
      "source": [
        "Missing Values/Null Values"
      ],
      "metadata": {
        "id": "L2V01VEqRCPE"
      }
    },
    {
      "cell_type": "code",
      "source": [
        "# Missing Values/Null Values Count\n",
        "missing_values = dataset.isnull().sum()"
      ],
      "metadata": {
        "id": "ce3k2TZGRBRW"
      },
      "execution_count": null,
      "outputs": []
    },
    {
      "cell_type": "code",
      "source": [
        "# Visualizing the missing values\n",
        "missing_values"
      ],
      "metadata": {
        "id": "wFacNszdRKLc"
      },
      "execution_count": null,
      "outputs": []
    },
    {
      "cell_type": "markdown",
      "source": [
        "What did you know about your dataset?\n",
        "\n",
        "\n",
        "\n",
        "1. The Dataset contains a total of 16 columns and 48895 observations in total\n",
        "2. minimum price is 0 USD and maximum price is 10000 3.mean price is 152 USD 4.On average ,people stay in a room for 7 days 5.there are total 4 columns with null values\n",
        "\n"
      ],
      "metadata": {
        "id": "EjSnXUPQRQ-I"
      }
    },
    {
      "cell_type": "markdown",
      "source": [
        "**2. Understanding Your Variables**"
      ],
      "metadata": {
        "id": "g8uzTpmJVac_"
      }
    },
    {
      "cell_type": "code",
      "source": [
        "# Dataset Columns\n",
        "dataset.columns"
      ],
      "metadata": {
        "id": "53H374PaRi7u"
      },
      "execution_count": null,
      "outputs": []
    },
    {
      "cell_type": "code",
      "source": [
        "# Dataset Describe\n",
        "dataset.describe()"
      ],
      "metadata": {
        "id": "iHn2s_ARVkcm"
      },
      "execution_count": null,
      "outputs": []
    },
    {
      "cell_type": "markdown",
      "source": [
        "**Variables Description**\n",
        "\n",
        "we get to know that some columns falls under categorical and remaining are numeriacal except one last_review comes under Date_Time category.\n",
        "\n",
        "Categorical variable : name,neighbourhood_group, neighbourhood, room_type\n",
        "\n",
        "Numerical variable : id, host_id, price, minimum_nights, number_of_reviews, reviews_per_month, calculated_host_listings_count, availability_365\n",
        "\n",
        "Date_Time variable : last_review\n",
        "\n",
        "Coordinates : latitude, longitude\n",
        "\n",
        "\n",
        "1.ID: A unique identifier for each Airbnb listing.   \n",
        "2.Name: Name of the listing  \n",
        "3.Host ID: A unique identifier for each Airbnb host.\n",
        "4.host name: name of the host\n",
        "5.Neighborhood_group: location of the Airbnb listing.\n",
        "6.Neighborhood: Area of the Airbnb listing.\n",
        "7.Latitude: The latitude coordinate of the listing's location.\n",
        "8.Longitude: The longitude coordinate of the listing's location.\n",
        "9.Room Type: The type of room available for booking, such as an entire home/apartment, private room, or shared room.\n",
        "10.Price: The price per night for renting the Airbnb listing.\n",
        "11.Minimum Nights: The minimum number of nights required for a booking.\n",
        "12.Number of reviews: number of reviews\n",
        "13.last_review: content of last review\n",
        "14.reviews per months:number of checks per months\n",
        "15.calculate host listing count: total count\n",
        "16.Availability_360: The availability of the listing around the year.\n",
        "\n",
        "\n",
        "**Check Unique Values for each variable.**"
      ],
      "metadata": {
        "id": "6xUlFKyiVv6Y"
      }
    },
    {
      "cell_type": "code",
      "source": [
        "# Check Unique Values for each variable.\n",
        "unique_values = dataset.nunique()\n",
        "unique_values"
      ],
      "metadata": {
        "id": "IzmDAaq1RQre"
      },
      "execution_count": null,
      "outputs": []
    },
    {
      "cell_type": "markdown",
      "source": [
        " **3. Data Wrangling**"
      ],
      "metadata": {
        "id": "LN8H1oVpZguT"
      }
    },
    {
      "cell_type": "markdown",
      "source": [
        "Data Wrangling Code"
      ],
      "metadata": {
        "id": "MO6kM-rlZm4Z"
      }
    },
    {
      "cell_type": "code",
      "source": [
        "# Write your code to make your dataset analysis ready.\n",
        "#Dropping unnecessary columns\n",
        "dataset.drop(['name','id','host_name','last_review'], axis=1, inplace=True)\n",
        "dataset.head()"
      ],
      "metadata": {
        "id": "xYPa4s4UZgW8"
      },
      "execution_count": null,
      "outputs": []
    },
    {
      "cell_type": "code",
      "source": [
        "#Rreplace the 'reviews per month' by zero\n",
        "dataset.fillna({'reviews_per_month':0}, inplace=True)\n",
        "dataset.reviews_per_month.isnull().sum()"
      ],
      "metadata": {
        "id": "IWzwAN5zaKGy"
      },
      "execution_count": null,
      "outputs": []
    },
    {
      "cell_type": "code",
      "source": [
        "#Drop rows where the price is 0\n",
        "dataset = dataset[dataset[\"price\"] != 0]\n",
        "\n",
        "# Reset the index after dropping rows\n",
        "dataset.reset_index(drop=True, inplace=True)\n",
        "dataset.describe()"
      ],
      "metadata": {
        "id": "5V0-ZojnaM9O"
      },
      "execution_count": null,
      "outputs": []
    },
    {
      "cell_type": "code",
      "source": [
        "#checking null values\n",
        "dataset.isnull().sum()"
      ],
      "metadata": {
        "id": "M0zlQgm_aRVI"
      },
      "execution_count": null,
      "outputs": []
    },
    {
      "cell_type": "code",
      "source": [
        "#checking columns and shape\n",
        "print(dataset.shape)\n",
        "print(dataset.columns)\n",
        "dataset.head()\n"
      ],
      "metadata": {
        "id": "VZgq8jb3aT6X"
      },
      "execution_count": null,
      "outputs": []
    },
    {
      "cell_type": "markdown",
      "source": [
        "**What all manipulations have you done and insights you found?**\n",
        "\n",
        "While reading the data we have found that there are some columns which are of no use for us in our case study.we have droped 4 columns( name, id, host_name, last_review).\n",
        "\n",
        "There were 937 null vaues in review_per_month column.we cants drop this much rows so we replace this null values with 0.\n",
        "\n",
        "Then we have observed that minimum value of price was 0 which cant be true so we have dropped all the rows where price was 0 by filtering our dataset."
      ],
      "metadata": {
        "id": "-f_SEzaiaYZD"
      }
    },
    {
      "cell_type": "markdown",
      "source": [
        "# **4. Data Vizualization, Storytelling & Experimenting with charts : Understand the relationships between variables**"
      ],
      "metadata": {
        "id": "QvT7Yiquayk7"
      }
    },
    {
      "cell_type": "markdown",
      "source": [
        "**Chart - 1 Room Type**"
      ],
      "metadata": {
        "id": "bAmMJJdsa4yB"
      }
    },
    {
      "cell_type": "code",
      "source": [
        "# Chart - 1 visualization code\n",
        "# Create a countplot of room types\n",
        "plt.figure(figsize=(10, 6))\n",
        "sns.countplot(data=dataset, x=\"room_type\")\n",
        "plt.title(\"Distribution of Room Types\")\n",
        "plt.xlabel(\"Room Type\")\n",
        "plt.ylabel(\"Count\")\n",
        "plt.show()\n"
      ],
      "metadata": {
        "id": "mAvZMS_ja7eH"
      },
      "execution_count": null,
      "outputs": []
    },
    {
      "cell_type": "markdown",
      "source": [
        "**1. Why did you pick the specific chart?**"
      ],
      "metadata": {
        "id": "Yh5CkZsXbbqk"
      }
    },
    {
      "cell_type": "markdown",
      "source": [
        "The specific chart used in the example, a countplot, is suitable for visualizing the distribution of room types in the Airbnb dataset. Here's the reasions behind selecting this chart:\n",
        "\n",
        "Categorical Data: The room type variable in the Airbnb dataset represents categorical data, as it consists of distinct categories such as \"Entire home/apartment,\" \"Private room,\" \"Shared room,\" etc. Countplot is a suitable choice for visualizing the distribution of categorical variables.\n",
        "\n",
        "Frequency Counts: The countplot displays the frequency counts of each room type category in the dataset. It allows us to easily compare the number of occurrences for each category and observe the distribution pattern.\n",
        "\n",
        "Bar Representation: Countplot uses bars to represent the frequencies of different room types. The length of each bar corresponds to the count of observations in the respective category. Bar charts are commonly used to display categorical data and make it easy to compare values.\n",
        "\n",
        "Seaborn Convenience: The countplot function from the Seaborn library provides a straightforward way to create this type of chart in a concise manner. Seaborn offers a high-level interface for creating visually appealing statistical visualizations."
      ],
      "metadata": {
        "id": "Tg-CDhVrjMK8"
      }
    },
    {
      "cell_type": "markdown",
      "source": [
        "**2. What is/are the insight(s) found from the chart?**\n",
        "\n",
        "The majority of rooms in the dataset are classified as \"Entire home/apt\"type.\n",
        "Shared rooms have lowest count in the dataset\n",
        "This observation suggests that there is a higher demand for rooms of the \"Entire home/apt\" type."
      ],
      "metadata": {
        "id": "6YS_r7DZjSoi"
      }
    },
    {
      "cell_type": "markdown",
      "source": [
        "**3.Will the gained insights help creating a positive business impact?**\n",
        "\n",
        "\n",
        "Are there any insights that lead to negative growth? Justify with specific reason.\n",
        "\n",
        "It help us to know that most people want entire house/apt for rent so that according to our data we will try to make/list/availability most no. of rental properties as entire house/apt or private rooms"
      ],
      "metadata": {
        "id": "DJB1CXMvjyJQ"
      }
    },
    {
      "cell_type": "markdown",
      "source": [
        "**Chart - 2**"
      ],
      "metadata": {
        "id": "zJmac5a0kFGN"
      }
    },
    {
      "cell_type": "code",
      "source": [
        "# Count the occurrences of each neighborhood\n",
        "neighborhood_counts = dataset[\"neighbourhood_group\"].value_counts()\n",
        "\n",
        "# Create a horizontal bar plot\n",
        "plt.figure(figsize=(10, 6))\n",
        "sns.barplot(x=neighborhood_counts.index, y= neighborhood_counts.values)\n",
        "plt.title(\"Neighbourhood_group Counts & location \")\n",
        "plt.xlabel(\"Neighbourhood_group\")\n",
        "plt.ylabel(\"Number of hotels\")\n",
        "plt.show()\n"
      ],
      "metadata": {
        "id": "BRzM0-hJkEv_"
      },
      "execution_count": null,
      "outputs": []
    },
    {
      "cell_type": "markdown",
      "source": [
        "**1. Why did you pick the specific chart?**\n",
        "\n",
        "The bar plot was chosen to visualize the neighborhood_group in the Airbnb dataset for the following reasons:\n",
        "\n",
        "Categorical Data: The neighborhood_group variable in the Airbnb dataset represents categorical data, as it consists of distinct neighborhood names. Bar plots are well-suited for visualizing the distribution or frequency of categorical variables.\n",
        "\n",
        "Count Comparison: The bar plot allows for easy comparison of the counts or frequencies of different neighborhoods. The lengths of the bars directly represent the counts, making it simple to identify neighborhoods with higher or lower numbers of listings.\n",
        "\n",
        "**2. What is/are the insight(s) found from the chart?**\n",
        "\n",
        "Popular Neighborhoods: The bar plot reveal the neighborhoods with the highest counts i.e Manhattan, indicating the most popular or frequently listed areas in the dataset. These neighborhoods may attract more visitors or have a larger number of available accommodations.\n",
        "\n",
        "Less Common Neighborhoods: The plot also highlight neighborhoods with lower counts i.e taten island and bronx, suggesting less commonly listed or less popular areas. These neighborhoods may have fewer options for accommodations or cater to a more niche audience.\n",
        "\n",
        "Market Opportunities: Neighborhoods with low counts staten island and bronx in the bar plot represent potential market opportunities. These areas may have fewer listings, indicating potential demand for additional accommodations or untapped market segments.\n",
        "\n",
        "**3. Will the gained insights help creating a positive business impact?\n",
        "Are there any insights that lead to negative growth? Justify with specific reason.**\n",
        "\n",
        "Market Understanding: By visualizing the counts of each neighborhood group, the business gains insights into the distribution of hotels across different areas. This information can help in understanding the market landscape, identifying areas with high hotel density, and exploring potential opportunities for growth or expansion.\n",
        "\n",
        "Location-Based Strategies: Understanding the hotel counts in each neighborhood group allows businesses to tailor their strategies based on specific locations. For example, they can allocate marketing resources, promotional activities, or service enhancements to areas with higher hotel counts to maximize visibility and attract more customers.\n",
        "\n",
        "**Chart - 3 Types of room in each location**"
      ],
      "metadata": {
        "id": "RAjz02hKkg6G"
      }
    },
    {
      "cell_type": "code",
      "source": [
        "# Chart - 3 visualization code\n",
        "sns.countplot(data=dataset, x=\"neighbourhood_group\", hue=\"room_type\")\n",
        "plt.title(\"Types of room in each location\")\n",
        "plt.xlabel(\"Neighborhood\")\n",
        "plt.ylabel(\"Number of rooms\")\n",
        "plt.show()\n"
      ],
      "metadata": {
        "id": "rR-EYV6cj7at"
      },
      "execution_count": null,
      "outputs": []
    },
    {
      "cell_type": "markdown",
      "source": [
        "**1. Why did you pick the specific chart?**\n",
        "\n",
        "The countplot was chosen as it effectively presents the number of rooms for each room type within different neighborhood groups. Here are the reasons for selecting this chart:\n",
        "\n",
        "Categorical Data: The countplot is ideal for visualizing the distribution of categorical variables. In this case, we are interested in comparing room types (categorical) across different neighborhood groups.\n",
        "\n",
        "Grouped Representation: By using the hue parameter, the countplot groups the bars based on the room types within each neighborhood group. This grouping helps to visualize and compare the room types side by side, making it easier to identify any variations or patterns across neighborhood groups.\n",
        "\n",
        "By utilizing the countplot, you can gain insights into the room type distribution across different neighborhood groups, enabling a better understanding of the variety and availability of room types within each location.\n",
        "\n",
        "**2. What is/are the insight(s) found from the chart?**\n",
        "\n",
        "The chart helps visualize the distribution of room types across different neighborhood groups, enabling insights into the popularity and availability of various room types within each location.\n",
        "\n",
        "Other then that we can also see that\n",
        "\n",
        "1.The majority of rooms in the dataset are classified as \"Entire home/apt\"type.\n",
        "\n",
        "2.shared rooms have lowest count in the dataset\n",
        "\n",
        "3.This observation suggests that there is a higher demand for rooms of the \"Entire home/apt\" type.\n",
        "\n",
        "**3. Will the gained insights help creating a positive business impact?\n",
        "Are there any insights that lead to negative growth? Justify with specific reason.**\n",
        "\n",
        "\n",
        "Demand Analysis: By visualizing the types of rooms in each neighborhood group, the business can gain insights into the demand for different room types in specific locations. This information can help in targeting marketing efforts, optimizing inventory management, and making informed decisions about pricing and availability.\n",
        "\n",
        "Market Positioning: Understanding the distribution of room types across different neighborhood groups can provide insights into the market positioning of the business. For example, if certain neighborhood groups have a higher concentration of a particular room type, the business can focus on promoting and enhancing its offerings in those areas to cater to specific customer preferences.\n",
        "\n",
        "**Chart - 4 Room types and mean price of person**"
      ],
      "metadata": {
        "id": "mMC7E8Cikv-p"
      }
    },
    {
      "cell_type": "code",
      "source": [
        "# Chart - 4 visualization code\n",
        "df=dataset.groupby([\"room_type\"],as_index=False).agg({'price':\"mean\",\"calculated_host_listings_count\":\"mean\"})\n",
        "df[\"avg. pay per person\"]=df[\"price\"]/df[\"calculated_host_listings_count\"]\n",
        "sns.pointplot(data=df,x=\"room_type\",y=\"avg. pay per person\")\n",
        "plt.title(\"Average Pay per Person by Room Type\")\n",
        "plt.xlabel(\"Room Type\")\n",
        "plt.ylabel(\"Average Pay per Person\")\n"
      ],
      "metadata": {
        "id": "F8A5RQbzjSDR"
      },
      "execution_count": null,
      "outputs": []
    },
    {
      "cell_type": "markdown",
      "source": [
        "**1. Why did you pick the specific chart?**\n",
        "\n",
        "The choice of the point plot allows for a clearer representation of the average pay per person as a continuous variable. It facilitates the visualization of trends and comparisons across room types\n",
        "\n",
        "**2. What is/are the insight(s) found from the chart?**\n",
        "\n",
        "Shared rooms are most affordable per person and private rooms are most expensive per person\n",
        "\n",
        "**3. Will the gained insights help creating a positive business impact?**\n",
        "\n",
        "Are there any insights that lead to negative growth? Justify with specific reason.\n",
        "\n",
        "Pricing Strategy: Understanding the average pay per person for different room types can help inform pricing strategies. For example, if the visualization reveals that certain room types have a significantly higher average pay per person, the business might consider adjusting prices or introducing targeted promotions to maximize revenue.\n",
        "\n",
        "Marketing and Promotion: The insights from the visualization can guide marketing and promotional efforts. If a particular room type has a lower average pay per person, the business could focus on marketing campaigns to increase awareness and attract more customers to that specific room type.\n",
        "\n",
        "**Chart - 5 Average time stay in each type of room**"
      ],
      "metadata": {
        "id": "H7RzzfVIpp9Y"
      }
    },
    {
      "cell_type": "code",
      "source": [
        "# Chart - 5 visualization code\n",
        "# Group the data by room type and calculate the mean average stay\n",
        "room_type_stay = dataset.groupby([\"room_type\"],as_index=False).agg({\"minimum_nights\":\"mean\"}).sort_values(by=\"minimum_nights\")\n",
        "\n",
        "# Create a bar plot of room types and average time of stay\n",
        "sns.barplot(data=room_type_stay, x=\"room_type\", y=\"minimum_nights\")\n",
        "plt.title(\"Average Time of Stay by Room Type\")\n",
        "plt.xlabel(\"Room Type\")\n",
        "plt.ylabel(\"Average Time of Stay (in nights)\")\n"
      ],
      "metadata": {
        "id": "uEKqBxDQqDap"
      },
      "execution_count": null,
      "outputs": []
    },
    {
      "cell_type": "markdown",
      "source": [
        "**1. Why did you pick the specific chart?**\n",
        "\n",
        "A bar plot is a common choice when comparing and representing categorical data. In this case, each bar represents a room type, and the height of the bar indicates the average time of stay for that room type. Bar plots are effective for showing a clear comparison between categories and can provide a visual representation of the differences in average time of stay between room types\n",
        "\n",
        "**2. What is/are the insight(s) found from the chart?**\n",
        "\n",
        "people who book entire home/spt stay longer as compared to people who book private room Answer Here\n",
        "\n",
        "**3. Will the gained insights help creating a positive business impact?**\n",
        "\n",
        "Are there any insights that lead to negative growth? Justify with specific reason.\n",
        "\n",
        "By this chart we can derive business profit by making basic calculations like no of times respective room type can be available for booking in a month and accordingly we have to decide booking price considering expenses.\n",
        "\n",
        "**Chart - 6 Room type vs Number of people**"
      ],
      "metadata": {
        "id": "27AIaOyrqI72"
      }
    },
    {
      "cell_type": "code",
      "source": [
        "# Chart - 6 visualization code\n",
        "sns.boxplot(data=dataset, x=\"room_type\",y=\"calculated_host_listings_count\")\n",
        "plt.title(\"Room Types vs. Number of People\")\n",
        "plt.xlabel(\"Room Type\")\n",
        "plt.ylabel(\"number of occupants\")\n",
        "\n",
        "plt.show()"
      ],
      "metadata": {
        "id": "0I_6wMl2qbB2"
      },
      "execution_count": null,
      "outputs": []
    },
    {
      "cell_type": "markdown",
      "source": [
        "1. Why did you pick the specific chart?\n",
        "The box plot is a suitable choice for visualizing the distribution and comparison of the number of host listings across different room types. The plot also identifies any potential outliers in the number of host listings for each room type. Outliers can indicate extreme values or unusual circumstances related to the availability or management of accommodations\n",
        "\n",
        "2. What is/are the insight(s) found from the chart?\n",
        "we observed that when number of people are higher,big rooms are booked\n",
        "\n",
        "3. Will the gained insights help creating a positive business impact?\n",
        "Are there any insights that lead to negative growth? Justify with specific reason.\n",
        "\n",
        "The occupancy and/or vacancy in respective areas for different room type can draw attention for different required solution like listing and/or delisting room_type from neighbourhood group.\n",
        "\n",
        "**Chart - 7 Neighbourhood with most number of hotels**"
      ],
      "metadata": {
        "id": "yKPwT_irqqsU"
      }
    },
    {
      "cell_type": "code",
      "source": [
        "top_20_neigbours= dataset['neighbourhood'].value_counts()[:20] #checking top 20 neighbourhoods on the basis of no of listings in entire NYC!\n",
        "top_20_neigbours.plot(kind='bar',color='chocolate')\n",
        "plt.xlabel('neighbourhood')\n",
        "plt.ylabel('counts in entire NYC')\n",
        "plt.title('Top neighbourhoods in entire NYC on the basis of count of listings')\n"
      ],
      "metadata": {
        "id": "sQbb5Q-Dqyn_"
      },
      "execution_count": null,
      "outputs": []
    },
    {
      "cell_type": "markdown",
      "source": [
        "1. Why did you pick the specific chart?\n",
        "This chart shows the which neighbourhood had most no of booking\n",
        "\n",
        "2. What is/are the insight(s) found from the chart?\n",
        "Identifying the Neighborhood with the Most Hotels: By observing the heights of the bars, you can quickly identify the neighborhood with the highest count i.e Williamsburg, indicating the most number of hotels in that area. This helps in understanding the concentration and popularity of hotels across different neighborhoods.\n",
        "\n",
        "3. Will the gained insights help creating a positive business impact?\n",
        "Are there any insights that lead to negative growth? Justify with specific reason.\n",
        "\n",
        "With the help of this data we can find target places to improve services at those and it will also help to get profit by limiting the advertisement market area so we can minimize the cost and increase the profit.\n",
        "\n",
        "**Chart - 8 Number of available rooms in different Neighborhood**"
      ],
      "metadata": {
        "id": "32oDDEUcq4zv"
      }
    },
    {
      "cell_type": "code",
      "source": [
        "# Chart - 8 visualization code\n",
        "# Select the variables for the scatter plot\n",
        "\n",
        "# Create a scatter plot\n",
        "plt.figure(figsize=(10, 6))\n",
        "sns.scatterplot(x = dataset[\"longitude\"],y = dataset[\"latitude\"],hue=dataset.neighbourhood_group)\n",
        "plt.title(\"Scatter Plot of Longitude and Latitude\")\n",
        "plt.xlabel(\"Longitude\")\n",
        "plt.ylabel(\"Latitude\")\n",
        "plt.show()\n"
      ],
      "metadata": {
        "id": "NpvXKLesrAPF"
      },
      "execution_count": null,
      "outputs": []
    },
    {
      "cell_type": "markdown",
      "source": [
        "1. Why did you pick the specific chart?\n",
        "A scatter plot can indeed be a suitable choice in certain cases to visualize the relationship between variables, including latitude and longitude.\n",
        "\n",
        "While scatter plots are commonly used for numerical variables, they can also be applied to geographic coordinates, such as latitude and longitude. However, it's important to note that the interpretation of the scatter plot in this case should be focused on the spatial distribution rather than a direct correlation or relationship between the variables\n",
        "\n",
        "2. What is/are the insight(s) found from the chart?\n",
        "We can observe that hotel rooms are more densely populated in Brooklyn and are a lot more spread in Queens\n",
        "\n",
        "3. Will the gained insights help creating a positive business impact?\n",
        "Are there any insights that lead to negative growth? Justify with specific reason.\n",
        "\n",
        "This chart shows locations nearer to the prime hotspots can garner more bookings hence we try hard to list more number of demanding room type and increase overall revenue by attracting customer\n",
        "\n",
        " **Chart - 9 Types of Rooms in different Neigbourhood**"
      ],
      "metadata": {
        "id": "2uwiXXV2rMB0"
      }
    },
    {
      "cell_type": "code",
      "source": [
        "# Chart - 9 visualization code\n",
        "# Create a scatter plot\n",
        "plt.figure(figsize=(10, 6))\n",
        "sns.scatterplot(x = dataset[\"longitude\"],y = dataset[\"latitude\"],hue=dataset.room_type)\n",
        "plt.title(\"Distribution of room_types in different Neighbourhood\")\n",
        "plt.xlabel(\"Longitude\")\n",
        "plt.ylabel(\"Latitude\")\n",
        "plt.show()\n"
      ],
      "metadata": {
        "id": "BYGg1-lYrQxP"
      },
      "execution_count": null,
      "outputs": []
    },
    {
      "cell_type": "markdown",
      "source": [
        "**1. Why did you pick the specific chart?**\n",
        "\n",
        "A scatter plot can indeed be a suitable choice in certain cases to visualize the relationship between variables, including latitude and longitude.\n",
        "\n",
        "While scatter plots are commonly used for numerical variables, they can also be applied to geographic coordinates, such as latitude and longitude. However, it's important to note that the interpretation of the scatter plot in this case should be focused on the spatial distribution rather than a direct correlation or relationship between the variables\n",
        "\n",
        "**2. What is/are the insight(s) found from the chart?**\n",
        "\n",
        "we can see that shared rooms distribution is least among all 3types of rooms.\n",
        "\n",
        "**3. Will the gained insights help creating a positive business impact?\n",
        "Are there any insights that lead to negative growth? Justify with specific reason.**\n",
        "\n",
        "The gained insights will help to increase business by targeting particular area of market which have higher number of orders and booking. Keep track of no of listings in the area, keep eye on percentage occupancy to make sure the demand and supply doesn't mismatch\n",
        "\n",
        "**Chart - 10 Availability of rooms in different Neighbourhood**"
      ],
      "metadata": {
        "id": "mK3wSHu5rWMB"
      }
    },
    {
      "cell_type": "code",
      "source": [
        "sns.countplot(data=dataset[dataset['availability_365']  == 365], x='neighbourhood_group', hue='room_type', palette='GnBu_d')\n",
        "plt.title('No. of Properties Available 365 days', fontsize=12)\n",
        "plt.show()"
      ],
      "metadata": {
        "id": "LNQX3BlYrVzU"
      },
      "execution_count": null,
      "outputs": []
    },
    {
      "cell_type": "markdown",
      "source": [
        "**1. Why did you pick the specific chart?**\n",
        "\n",
        "This chart will give us idea about availability of room_type in respective neighbourhood group.\n",
        "\n",
        "**2. What is/are the insight(s) found from the chart?**\n",
        "\n",
        "This subplot gives us clear picture i.e. \"Trend\" of room_type available most during a year. e.g. Private room has most availability round the year except in Manhattan and least availability in Shared room irrespective of Neighbourhood group.\n",
        "\n",
        "**3. Will the gained insights help creating a positive business impact?**\n",
        "\n",
        "Are there any insights that lead to negative growth? Justify with specific reason.\n",
        "\n",
        "The above Subplot shows us which room type in which neighbourhood group has most as well as least availability throughout the year. Hence this data can be for listing and delisting demanded and least asked room type resp.\n",
        "\n",
        "Answer Here\n",
        "\n",
        "**Chart - 11 Overall price distribution**"
      ],
      "metadata": {
        "id": "a6nBNVilq_qn"
      }
    },
    {
      "cell_type": "code",
      "source": [
        "# Chart - 11 visualization code\n",
        "import seaborn as sns\n",
        "import matplotlib.pyplot as plt\n",
        "\n",
        "# Create a histogram of the price distribution\n",
        "plt.figure(figsize=(10, 6))\n",
        "sns.boxplot(data=dataset, x=\"price\")\n",
        "plt.title(\"Overall Price Distribution\")\n",
        "plt.xlabel(\"Price\")\n",
        "plt.ylabel(\"Frequency\")\n",
        "plt.show()\n"
      ],
      "metadata": {
        "id": "EY8IqmtZswHW"
      },
      "execution_count": null,
      "outputs": []
    },
    {
      "cell_type": "markdown",
      "source": [
        "**1. Why did you pick the specific chart?**\n",
        "\n",
        "Indented block\n",
        "\n",
        "Using a box plot, you can quickly assess the central tendency, variability, and presence of outliers in the price distribution.\n",
        "\n",
        "**2. What is/are the insight(s) found from the chart?**\n",
        "\n",
        "we can observe that maximum hotal prices ranging from 10 to 200 USD but it is important to consider that there is maximum price of 10000 for certain listing.it is not outlier it is possible based on various factor such as location,room_type,neighbourhood and other specific circumstances.\n",
        "\n",
        "50% of rooms having price less then 106 USD and 50% of rooms having price above 106USD\n",
        "\n",
        "**3. Will the gained insights help creating a positive business impact?\n",
        "Are there any insights that lead to negative growth? Justify with specific reason.**\n",
        "\n",
        "\n",
        "Pricing Strategy: Analyzing the price distribution can help inform pricing strategies. Businesses can identify the range and spread of prices, understand the central tendency (median), and identify any outliers. This information can guide pricing decisions, such as setting competitive prices, determining optimal price ranges for different room types or locations, or identifying opportunities to adjust prices to maximize revenue.\n",
        "\n",
        "Competitive Analysis: Comparing the price distribution with competitors' offerings can provide insights into the business's position in the market. By understanding the range and spread of prices, businesses can assess whether their prices are aligned with market trends and customer expectations. This knowledge can help identify opportunities for differentiation, price adjustments, or the introduction of value-added services to gain a competitive edge.\n",
        "\n",
        "**Chart - 12 Price Distribution in Each Neighborhood Group**"
      ],
      "metadata": {
        "id": "Xvxd4r2Is30V"
      }
    },
    {
      "cell_type": "code",
      "source": [
        "# Chart - 12 visualization code\n",
        "import seaborn as sns\n",
        "import matplotlib.pyplot as plt\n",
        "\n",
        "# Create a box plot of price distribution in each neighborhood group\n",
        "plt.figure(figsize=(10, 6))\n",
        "sns.boxplot(data=dataset, x=\"neighbourhood_group\", y=\"price\")\n",
        "plt.title(\"Price Distribution in Each Neighborhood Group\")\n",
        "plt.xlabel(\"Neighborhood Group\")\n",
        "plt.ylabel(\"Price\")\n",
        "plt.show()"
      ],
      "metadata": {
        "id": "lXtBaXqes3Bn"
      },
      "execution_count": null,
      "outputs": []
    },
    {
      "cell_type": "markdown",
      "source": [
        "**1. Why did you pick the specific chart?**\n",
        "\n",
        "the box plot is a commonly used chart for displaying the distribution and summary statistics of a numerical variable, making it a suitable choice for comparing the price distributions in different neighborhood groups. It provides valuable insights into the variation, central tendency, and outliers within each group.\n",
        "\n",
        "**2. What is/are the insight(s) found from the chart?**\n",
        "\n",
        "we observe that the price anges between 0 to 180 USD.\n",
        "we can also see the price ranges close to 10000 USD in manhattan and Brooklyn\n",
        "\n",
        "**3. Will the gained insights help creating a positive business impact?\n",
        "Are there any insights that lead to negative growth? Justify with specific reason.**\n",
        "\n",
        "The higher average price shows more listing price can be feasible for making more profit as well as more listings can be done in the high demand neighboourhood. And spend on offline advertising accordingly\n",
        "\n",
        "**Chart - 13 Average Price for Each Type of Room per Neighborhood Group**"
      ],
      "metadata": {
        "id": "368SJm_nt21S"
      }
    },
    {
      "cell_type": "code",
      "source": [
        "# Chart - 13 visualization code\n",
        "# Calculate the average price for each type of room per neighborhood group\n",
        "df_avg_price = dataset.groupby(['neighbourhood_group', 'room_type'])['price'].mean().reset_index()\n",
        "\n",
        "# Create a grouped bar plot\n",
        "plt.figure(figsize=(12, 8))\n",
        "sns.barplot(data=df_avg_price, x='neighbourhood_group', y='price', hue='room_type')\n",
        "plt.title('Average Price for Each Type of Room per Neighborhood Group')\n",
        "plt.xlabel('Neighborhood Group')\n",
        "plt.ylabel('Average Price')\n",
        "plt.legend(title='Room Type')\n",
        "plt.show()\n"
      ],
      "metadata": {
        "id": "bkhuR3CvxX8m"
      },
      "execution_count": null,
      "outputs": []
    },
    {
      "cell_type": "markdown",
      "source": [
        "**1. Why did you pick the specific chart?**\n",
        "\n",
        "The choice of a bar plot for visualizing the average price for each type of room in each neighborhood group is a suitable option for several reasons:\n",
        "\n",
        "Comparison of Categories\n",
        "Categorical Data\n",
        "Ability to Show Multiple Categories\n",
        "Overall a bar plot is a suitable choice for comparing the average prices of different room types within each neighborhood group. It provides a clear and concise visualization that enables easy interpretation and comparison of the average prices across categories\n",
        "\n",
        "\n",
        "**2. What is/are the insight(s) found from the chart?**\n",
        "\n",
        "Answer Here\n",
        "\n",
        "Brooklyn offers affordable shared rooms options.\n",
        "Entire home/apartment type stays are more expensive compared to other 2 types of room listed.\n",
        "The average price for a private room in Manhattan is notably high,indicatind that it is relatively expensive.\n",
        "\n",
        "\n",
        "\n",
        "**3. Will the gained insights help creating a positive business impact?\n",
        "Are there any insights that lead to negative growth? Justify with specific reason.**\n",
        "\n",
        "\n",
        "This chart gives us good business insight about revenue realisation like from which room type and which neighbourhood group are going to give us highest monetary benefits for ultimate goal of profit\n",
        "\n",
        "**Chart - 14 - Correlation Heatmap**"
      ],
      "metadata": {
        "id": "Dkg2XzwxxerF"
      }
    },
    {
      "cell_type": "code",
      "source": [
        "\n",
        "# Correlation Heatmap visualization code\n",
        "corr = dataset.corr(method='kendall')\n",
        "plt.figure(figsize=(15,8))\n",
        "sns.heatmap(corr, annot=True)\n",
        "dataset.columns"
      ],
      "metadata": {
        "id": "JgdawnbFyAdA"
      },
      "execution_count": null,
      "outputs": []
    },
    {
      "cell_type": "markdown",
      "source": [
        "**1. Why did you pick the specific chart?**\n",
        "\n",
        "\n",
        "Using a heatmap, you can quickly identify variables that are strongly correlated (either positively or negatively) and gain insights into the relationships between different variables.\n",
        "\n",
        "**2. What is/are the insight(s) found from the chart?**\n",
        "\n",
        "In the Heatmap Matrix some variables with some other have positive correlation and some also have negative correlation. e.g.\n",
        "\n",
        "Positive corr : Number_of_reviews and reviews_per_month, calculated_host_listings_count and availability_365\n",
        "\n",
        "Negative corr : price and longitude, number_of_reviews and id, reviews_per_month and minimum_nights\n",
        "\n",
        "**Chart - 15 - Pair Plot**\n"
      ],
      "metadata": {
        "id": "MDG2hK_IyFWj"
      }
    },
    {
      "cell_type": "code",
      "source": [
        "sns.pairplot(dataset, hue='room_type',\n",
        "             x_vars=['price', 'number_of_reviews','reviews_per_month','availability_365'],\n",
        "             y_vars=['price', 'number_of_reviews','reviews_per_month','availability_365'],\n",
        "             kind='scatter', diag_kind= 'hist')"
      ],
      "metadata": {
        "id": "NzIcjdSsyEzZ"
      },
      "execution_count": null,
      "outputs": []
    },
    {
      "cell_type": "markdown",
      "source": [
        "**1. Why did you pick the specific chart?**\n",
        "\n",
        "A pair plot is a useful visualization tool for analyzing the relationships between multiple variables in a dataset. It provides a comprehensive overview of the pairwise relationships, allowing for the identification of patterns, correlations, and distributions\n",
        "\n",
        "**2. What is/are the insight(s) found from the chart?**\n",
        "\n",
        "The relationship between two variables and formation of separated clustres shows some insight like Price and No of reviews have negative relationship, more price less number of reviews per month.\n",
        "\n",
        "Histogram shows every variable has its frequency, distribution and density. Also shows characteristics of skewness."
      ],
      "metadata": {
        "id": "bH3M-VfnybK7"
      }
    },
    {
      "cell_type": "markdown",
      "source": [
        "**5. Solution to Business Objective**"
      ],
      "metadata": {
        "id": "GSAdvNazMizC"
      }
    },
    {
      "cell_type": "markdown",
      "source": [
        "**What do you suggest the client to achieve Business Objective ?**"
      ],
      "metadata": {
        "id": "yUICyzY2MmeW"
      }
    },
    {
      "cell_type": "markdown",
      "source": [
        "Explain Briefly.\n",
        "\n",
        "We have find out the Top 20 neighbourhoods where number of booking is high, we can focus on those areas for marketting campaigns and advertisements for maximize booking and reduce marketting cost by redcing the focus areas.\n",
        "\n",
        "Most of the guests doesn't prefer shared rooms rather choose entire home/apt and private room. Manhattan and Brooklyn are most demanded neighbourhood groups.\n",
        "\n",
        "Most subscribed booking price is come within the bracket of $10-400 where almost 95% booking happens as well as most reviews are also given by these guests. One more thing Private room and Entire home/apt gives most number of reviews.\n",
        "\n",
        "Maximum listings done by a top hosts are also concentrated in Manhattan and Brooklyn like higher prices and most bookings.\n",
        "\n",
        "We can say that hosts are also inclined to Manhattan and Brooklyn due to higher price realisation and more booking as we know from earlier charts; so we can ask more comission from hosts here and realise more profit."
      ],
      "metadata": {
        "id": "PzEqYOKjMyQK"
      }
    },
    {
      "cell_type": "markdown",
      "source": [
        "# **Conclusion**"
      ],
      "metadata": {
        "id": "0Nn5JqZ4M45-"
      }
    },
    {
      "cell_type": "markdown",
      "source": [
        "From the above Exploratory Data Analysis of Airbnb Dataset we can conclude that:\n",
        "\n",
        "Manhattan and Brooklyn are the two distinguished, expensive & posh areas of NY. Though location of property has high effect on deciding price, but a property in popular location doesn't mean it will stay occupied in most of the time.\n",
        "\n",
        "The people who prefer to stay in Entire home or Apartment they are going to stay bit longer and same is the most booked room type in the Neighbourhood group.\n",
        "\n",
        "The findings from an exploratory data analysis project on Airbnb can help both hosts and guests make more informed decisions. Hosts can learn more about what amenities guests are looking for and how to price their property competitively. On the other hand, guests can follow some parameteres to make decisions about the location, amenities, and price of properties they want to book.\n",
        "\n",
        "The given Airbnb Dataset has vast data but lacks in some required features because it is not easy to decide property valuation. Overall, conducting an exploratory data analysis project on Airbnb can provide valuable insights into the dynamics of the short-term rental market and enhance the user experience for both hosts and guests."
      ],
      "metadata": {
        "id": "q7LIjaGrM99c"
      }
    },
    {
      "cell_type": "markdown",
      "source": [
        "**Hurrah! You have successfully completed your EDA Capstone Project !!!**"
      ],
      "metadata": {
        "id": "X6gunVndNDNJ"
      }
    }
  ]
}